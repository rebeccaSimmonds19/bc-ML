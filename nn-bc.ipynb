{
 "cells": [
  {
   "cell_type": "code",
   "execution_count": 17,
   "metadata": {},
   "outputs": [],
   "source": [
    "from sklearn.model_selection import train_test_split\n",
    "import pandas as pd\n",
    "import seaborn as sns; sns.set()\n",
    "import matplotlib.pyplot as plt\n",
    "from sklearn.datasets import load_breast_cancer\n",
    "from keras.models import Sequential\n",
    "\n",
    "\n",
    "\n",
    "# load dataset\n",
    "data = load_breast_cancer()\n",
    "# feature matrix\n",
    "X = data.data\n",
    "# target vector\n",
    "y = data.target\n",
    "\n",
    "# Split dataset into training (80%) and test (20%) set\n",
    "X_train, X_test, y_train, y_test = train_test_split(X, y, test_size=0.99, random_state=3)\n",
    "\n",
    "# Normalize data\n",
    "#X_train_N = (X_train-X_train.mean())/(X_train.max()-X_train.min())\n",
    "#X_test_N = (X_test-X_train.mean())/(X_test.max()-X_test.min())\n",
    "\n",
    "from sklearn.preprocessing import StandardScaler\n",
    "from sklearn.metrics import confusion_matrix\n",
    "from keras.layers import Activation, Dense\n",
    "\n",
    "\n",
    "scaler = StandardScaler()\n",
    " \n",
    "num_epoch = 10\n",
    " \n",
    "# 1-layer NN\n",
    "def l1neuralNetwork():\n",
    "    model = Model()\n",
    "    model.add(Dense(input_dim=30, units=2))\n",
    "    model.add(Activation('softmax'))\n",
    "    model.compile(loss='sparse_categorical_crossentropy', optimizer='sgd', metrics=['accuracy'])\n",
    "    #model.summary()\n",
    " \n",
    "    model.fit(scaler.fit_transform(X_train_N), y_train, epochs=num_epoch,\n",
    "              shuffle=True)\n",
    "    y_pred = model.predict_classes(scaler.transform(X_test_N.values))\n",
    " \n",
    "# 3-layer NN\n",
    "def l3neuralNetwork():\n",
    "    model = Sequential()\n",
    "    model.add(Dense(input_dim=30, units=30))\n",
    "    model.add(Dense(input_dim=30, units=30))\n",
    "    model.add(Dense(input_dim=30, units=2))\n",
    "    model.add(Activation('softmax'))\n",
    "    model.compile(loss='sparse_categorical_crossentropy', optimizer='sgd', metrics=['accuracy'])\n",
    "    #model.summary()\n",
    "    model.fit(scaler.fit_transform(X_train_N), y_train, epochs=num_epoch,\n",
    "              shuffle=True)\n",
    "    y_pred = model.predict_classes(scaler.transform(X_test_N.values))\n",
    " \n",
    "# 5-layer NN\n",
    "def l5neuralNetwork():\n",
    "    model = Sequential()\n",
    "    model.add(Dense(input_dim=30, units=30))\n",
    "    model.add(Dense(input_dim=30, units=30))\n",
    "    model.add(Dense(input_dim=30, units=30))\n",
    "    model.add(Dense(input_dim=30, units=30))\n",
    "    model.add(Dense(input_dim=30, units=2))\n",
    "    model.add(Activation('softmax'))\n",
    "    model.compile(loss='sparse_categorical_crossentropy', optimizer='sgd', metrics=['accuracy'])\n",
    "    #model.summary()\n",
    "    model.fit(scaler.fit_transform(X_train), y_train, epochs=num_epoch,\n",
    "              shuffle=True)\n",
    "    y_pred = model.predict_classes(scaler.transform(X_test))\n",
    "    cm = confusion_matrix(y_test, y_pred)\n",
    "    df_cm = pd.DataFrame(cm, range(2),\n",
    "                  range(2))\n",
    "    plt.figure(figsize=(10,7))\n",
    "    sns.set(font_scale=1.4)#for label size\n",
    "    cm_plot = sns.heatmap(df_cm, annot=True, fmt='n', annot_kws={\"size\": 12})"
   ]
  },
  {
   "cell_type": "code",
   "execution_count": 18,
   "metadata": {},
   "outputs": [
    {
     "name": "stdout",
     "output_type": "stream",
     "text": [
      "Epoch 1/10\n",
      "5/5 [==============================] - 0s 81ms/step - loss: 0.3443 - acc: 1.0000\n",
      "Epoch 2/10\n",
      "5/5 [==============================] - 0s 286us/step - loss: 0.2328 - acc: 1.0000\n",
      "Epoch 3/10\n",
      "5/5 [==============================] - 0s 304us/step - loss: 0.1732 - acc: 1.0000\n",
      "Epoch 4/10\n",
      "5/5 [==============================] - 0s 309us/step - loss: 0.1366 - acc: 1.0000\n",
      "Epoch 5/10\n",
      "5/5 [==============================] - 0s 317us/step - loss: 0.1119 - acc: 1.0000\n",
      "Epoch 6/10\n",
      "5/5 [==============================] - 0s 357us/step - loss: 0.0944 - acc: 1.0000\n",
      "Epoch 7/10\n",
      "5/5 [==============================] - 0s 399us/step - loss: 0.0812 - acc: 1.0000\n",
      "Epoch 8/10\n",
      "5/5 [==============================] - 0s 329us/step - loss: 0.0711 - acc: 1.0000\n",
      "Epoch 9/10\n",
      "5/5 [==============================] - 0s 361us/step - loss: 0.0630 - acc: 1.0000\n",
      "Epoch 10/10\n",
      "5/5 [==============================] - 0s 310us/step - loss: 0.0565 - acc: 1.0000\n"
     ]
    },
    {
     "data": {
      "image/png": "[encoded data removed]",
      "text/plain": [
       "<Figure size 720x504 with 2 Axes>"
      ]
     },
     "metadata": {},
     "output_type": "display_data"
    }
   ],
   "source": [
    "l5neuralNetwork()\n"
   ]
  },
  {
   "cell_type": "code",
   "execution_count": null,
   "metadata": {},
   "outputs": [],
   "source": []
  }
 ],
 "metadata": {
  "kernelspec": {
   "display_name": "Python 3",
   "language": "python",
   "name": "python3"
  },
  "language_info": {
   "codemirror_mode": {
    "name": "ipython",
    "version": 3
   },
   "file_extension": ".py",
   "mimetype": "text/x-python",
   "name": "python",
   "nbconvert_exporter": "python",
   "pygments_lexer": "ipython3",
   "version": "3.7.3"
  }
 },
 "nbformat": 4,
 "nbformat_minor": 2
}
